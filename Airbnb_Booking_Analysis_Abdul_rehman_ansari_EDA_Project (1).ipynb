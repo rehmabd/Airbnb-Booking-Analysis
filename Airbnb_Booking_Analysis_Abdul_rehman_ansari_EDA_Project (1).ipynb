{
  "nbformat": 4,
  "nbformat_minor": 0,
  "metadata": {
    "colab": {
      "private_outputs": true,
      "provenance": [],
      "collapsed_sections": [
        "FJNUwmbgGyua",
        "yQaldy8SH6Dl",
        "PH-0ReGfmX4f",
        "mDgbUHAGgjLW",
        "3RnN4peoiCZX",
        "7hBIi_osiCS2",
        "JlHwYmJAmNHm",
        "35m5QtbWiB9F",
        "PoPl-ycgm1ru",
        "H0kj-8xxnORC",
        "PBTbrJXOngz2",
        "u3PMJOP6ngxN",
        "bKJF3rekwFvQ",
        "MSa1f5Uengrz",
        "0wOQAZs5pc--",
        "K5QZ13OEpz2H",
        "lQ7QKXXCp7Bj",
        "448CDAPjqfQr",
        "KSlN3yHqYklG",
        "t6dVpIINYklI",
        "ijmpgYnKYklI",
        "EM7whBJCYoAo",
        "fge-S5ZAYoAp",
        "85gYPyotYoAp",
        "4Of9eVA-YrdM",
        "iky9q4vBYrdO",
        "F6T5p64dYrdO",
        "bamQiAODYuh1",
        "QHF8YVU7Yuh3",
        "GwzvFGzlYuh3",
        "OH-pJp9IphqM",
        "bbFf2-_FphqN",
        "_ouA3fa0phqN",
        "PIIx-8_IphqN",
        "t27r6nlMphqO",
        "r2jJGEOYphqO",
        "BZR9WyysphqO",
        "jj7wYXLtphqO",
        "eZrbJ2SmphqO",
        "gCFgpxoyphqP",
        "MmajqpBGGVau",
        "gCX9965dhzqZ",
        "gIfDvo9L0UH2"
      ]
    },
    "kernelspec": {
      "name": "python3",
      "display_name": "Python 3"
    },
    "language_info": {
      "name": "python"
    }
  },
  "cells": [
    {
      "cell_type": "markdown",
      "source": [
        " **Project Name**    - **AirBnb Booking Analysis**\n",
        "\n"
      ],
      "metadata": {
        "id": "vncDsAP0Gaoa"
      }
    },
    {
      "cell_type": "markdown",
      "source": [
        "**Project Type**- EDA\n",
        "#####**Contribution** - Individual\n"
      ],
      "metadata": {
        "id": "beRrZCGUAJYm"
      }
    },
    {
      "cell_type": "markdown",
      "source": [
        "# **Project Summary -**"
      ],
      "metadata": {
        "id": "FJNUwmbgGyua"
      }
    },
    {
      "cell_type": "markdown",
      "source": [
        "Airbnb is an online marketplace connecting travelers with local hosts, this platform enables people to list their available space and earn extra income in the form of rent. Airbnb enables travelers to book unique homestays from local hosts, saving them money and giving them a chance to interact with locals.\n",
        "\n",
        "In this EDA we are provided with a Data set Containing 49000 column and 16 rows, some\n",
        "important columns and columns i used are host_id, host_name, neighbourhood_group,\n",
        "neighbourhood, room_type, price, minimum_nights, number_of_reviews and\n",
        "calculated_host_listing_counts.\n",
        "\n",
        "As the first step, we perform data wrangling over the raw data. In it I dropped the unnecessary\n",
        "columns and columns with maximum null values i.e. last_review and reviews_per_month with\n",
        "both having 10052 null rows. Then we saw that price column has some irregularity as the\n",
        "minimum price of the apartment is ‘zero’ i.e. Free stay, which doesn’t make sense so i replaced\n",
        "all the zeros with ‘Median Price’. Further, we divided the complete\n",
        "Project into three parts i.e.1. Different hosts and areas analysis, 2. Analysis of location, price,\n",
        "reviews 3. Busiest host’s analysis,  4. Analysis on noticeable difference of traffic.\n",
        "1. In Different hosts and areas analysis, e focused on Most number of properties listed on each\n",
        "Neighborhood group, Hosts having highest number of properties listed. Through this we found Sonder (NYC) has highest number of listed properties and most properties are located in Manhattan and Brooklyn.\n",
        "2. In Location, price, reviews and Busiest hosts analysis, we focused on Neighborhood with Max\n",
        "reviews, price of maximum properties and customers preference, Room type preference, Most\n",
        "expensive Neighborhoods. Through this we concluded that Queens has the highest reviews, most\n",
        "properties have price between 0-2000 and people prefer to stay where price is less, for room type\n",
        "people like to stay in private rooms according to reviews and lastly Fort Wadsworth is the most\n",
        "expensive Neighborhood. For busiest hosts Dona, Ji, Maya, Carol and Danielle are top 5 busiest\n",
        "hosts and top 100 hosts usually prefer Private room.\n",
        "3. In Noticeable difference of traffic analysis,we compared neighborhood_group with\n",
        "minimum_night. Through this we found that Manhattan and Brooklyn has the highest traffic share\n",
        "due to the place of tourist attraction in them.\n"
      ],
      "metadata": {
        "id": "F6v_1wHtG2nS"
      }
    },
    {
      "cell_type": "markdown",
      "source": [
        "# **GitHub Link -**"
      ],
      "metadata": {
        "id": "w6K7xa23Elo4"
      }
    },
    {
      "cell_type": "markdown",
      "source": [],
      "metadata": {
        "id": "h1o69JH3Eqqn"
      }
    },
    {
      "cell_type": "markdown",
      "source": [
        "# **Problem Statement**\n"
      ],
      "metadata": {
        "id": "yQaldy8SH6Dl"
      }
    },
    {
      "cell_type": "markdown",
      "source": [
        "Dataset on 49000 observation is provided by Airbnb. Our goal is\n",
        "to analysis the data so that this can be used for security, business\n",
        "decisions, understanding of customers' and hosts behaviour and\n",
        "performance on the platform, guiding marketing initiatives,\n",
        "implementation of innovative additional services and much more.\n",
        "\n",
        "\n",
        "We have been provided with a data which lots of Null values. We\n",
        "saw that the price column has some irregularity as the minimum price of the apartment is 0 i.e. free stay. So we have deal with Null\n",
        "values and make some Assumptions for the price column.\n",
        "We have Hosts and Neighborhood group column, we have to do\n",
        "some analysis based on these column to get the data regarding the\n",
        "behavior of hosts. Then we have location, price, and reviews\n",
        "column we will analysis this columns to get the data about price and\n",
        "reviews in different locations.\n",
        "\n",
        "\n",
        "We have to analysis which hosts are the busiest and why, with\n",
        "the help of data regarding their minimum stays. Lastly we focused\n",
        "on any noticeable difference of traffic among different areas and\n",
        "what could be the reason for it. With the help of Neighborhood\n",
        "group and minimum nights column.\n",
        "\n",
        "Following are a few questions that we aim to answer through our analysis:\n",
        "\n",
        "• What can we learn about different hosts and areas?\n",
        "\n",
        "1. Host having highest number of properties listed\n",
        "2. Most properties are located in ?\n",
        "\n",
        "• What can we learn from predictions? (ex: locations, prices, reviews, etc)\n",
        "\n",
        "\n",
        "3. Who has highest no of review\n",
        "4. what price people prefer most?\n",
        "5. what room type people prefer?\n",
        "6. Which is most expensive neighbourhood\n",
        "\n",
        "\n",
        "• Which host are busiest and why? \n",
        "\n",
        "\n",
        "7. Check top 10 busiest host  \n",
        "8. What room type this busiest host prefer the most?\n",
        "\n",
        "\n",
        "\n",
        "9. Is there any noticeable difference of traffic among different areas and what could be the reason for it?\n",
        "\n"
      ],
      "metadata": {
        "id": "DpeJGUA3kjGy"
      }
    },
    {
      "cell_type": "markdown",
      "source": [
        "#### **Define Your Business Objective?**"
      ],
      "metadata": {
        "id": "PH-0ReGfmX4f"
      }
    },
    {
      "cell_type": "markdown",
      "source": [
        "Discover key understanding\n"
      ],
      "metadata": {
        "id": "PhDvGCAqmjP1"
      }
    },
    {
      "cell_type": "markdown",
      "source": [
        "# **General Guidelines** : -  "
      ],
      "metadata": {
        "id": "mDgbUHAGgjLW"
      }
    },
    {
      "cell_type": "markdown",
      "source": [
        "1.   Well-structured, formatted, and commented code is required. \n",
        "2.   Exception Handling, Production Grade Code & Deployment Ready Code will be a plus. Those students will be awarded some additional credits. \n",
        "     \n",
        "     The additional credits will have advantages over other students during Star Student selection.\n",
        "       \n",
        "             [ Note: - Deployment Ready Code is defined as, the whole .ipynb notebook should be executable in one go\n",
        "                       without a single error logged. ]\n",
        "\n",
        "3.   Each and every logic should have proper comments.\n",
        "4. You may add as many number of charts you want. Make Sure for each and every chart the following format should be answered.\n",
        "        \n",
        "\n",
        "```\n",
        "# Chart visualization code\n",
        "```\n",
        "            \n",
        "\n",
        "*   Why did you pick the specific chart?\n",
        "*   What is/are the insight(s) found from the chart?\n",
        "* Will the gained insights help creating a positive business impact? \n",
        "Are there any insights that lead to negative growth? Justify with specific reason.\n",
        "\n",
        "5. You have to create at least 20 logical & meaningful charts having important insights.\n",
        "\n",
        "\n",
        "[ Hints : - Do the Vizualization in  a structured way while following \"UBM\" Rule. \n",
        "\n",
        "U - Univariate Analysis,\n",
        "\n",
        "B - Bivariate Analysis (Numerical - Categorical, Numerical - Numerical, Categorical - Categorical)\n",
        "\n",
        "M - Multivariate Analysis\n",
        " ]\n",
        "\n",
        "\n",
        "\n"
      ],
      "metadata": {
        "id": "ZrxVaUj-hHfC"
      }
    },
    {
      "cell_type": "markdown",
      "source": [
        "# ***Let's Begin !***"
      ],
      "metadata": {
        "id": "O_i_v8NEhb9l"
      }
    },
    {
      "cell_type": "markdown",
      "source": [
        "## ***1. Know Your Data***"
      ],
      "metadata": {
        "id": "HhfV-JJviCcP"
      }
    },
    {
      "cell_type": "markdown",
      "source": [
        "### Import Libraries"
      ],
      "metadata": {
        "id": "Y3lxredqlCYt"
      }
    },
    {
      "cell_type": "code",
      "source": [
        "# Import Libraries\n",
        "import numpy as np\n",
        "import pandas as pd\n",
        "import matplotlib.pyplot as plt\n",
        "import seaborn as sns\n",
        "%matplotlib inline"
      ],
      "metadata": {
        "id": "M8Vqi-pPk-HR"
      },
      "execution_count": null,
      "outputs": []
    },
    {
      "cell_type": "markdown",
      "source": [
        "### Dataset Loading"
      ],
      "metadata": {
        "id": "3RnN4peoiCZX"
      }
    },
    {
      "cell_type": "code",
      "source": [
        "from google.colab import drive   #mounting google drive\n",
        "drive.mount('/content/drive')"
      ],
      "metadata": {
        "id": "SmtsSuGtksKD"
      },
      "execution_count": null,
      "outputs": []
    },
    {
      "cell_type": "code",
      "source": [
        "# Load Dataset\n",
        "df= pd.read_csv('/content/drive/MyDrive/Capstone 1/Airbnb NYC 2019.csv')"
      ],
      "metadata": {
        "id": "4CkvbW_SlZ_R"
      },
      "execution_count": null,
      "outputs": []
    },
    {
      "cell_type": "markdown",
      "source": [
        "### Dataset First View"
      ],
      "metadata": {
        "id": "x71ZqKXriCWQ"
      }
    },
    {
      "cell_type": "code",
      "source": [
        "# Dataset First Look\n",
        "df.head(5)"
      ],
      "metadata": {
        "id": "LWNFOSvLl09H"
      },
      "execution_count": null,
      "outputs": []
    },
    {
      "cell_type": "markdown",
      "source": [
        "As we can see that there are some NaN values in the last_review and reviews_per_month columns. We will look into the null values."
      ],
      "metadata": {
        "id": "xK_VGV8bst_9"
      }
    },
    {
      "cell_type": "markdown",
      "source": [
        "### Dataset Rows & Columns count"
      ],
      "metadata": {
        "id": "7hBIi_osiCS2"
      }
    },
    {
      "cell_type": "code",
      "source": [
        "# Dataset Rows & Columns count\n",
        "df.shape"
      ],
      "metadata": {
        "id": "Kllu7SJgmLij"
      },
      "execution_count": null,
      "outputs": []
    },
    {
      "cell_type": "markdown",
      "source": [
        "### Dataset Information"
      ],
      "metadata": {
        "id": "JlHwYmJAmNHm"
      }
    },
    {
      "cell_type": "code",
      "source": [
        "# Dataset Info\n",
        "df.info()"
      ],
      "metadata": {
        "id": "e9hRXRi6meOf"
      },
      "execution_count": null,
      "outputs": []
    },
    {
      "cell_type": "markdown",
      "source": [
        "#### Duplicate Values"
      ],
      "metadata": {
        "id": "35m5QtbWiB9F"
      }
    },
    {
      "cell_type": "code",
      "source": [
        "# Dataset Duplicate Value Count\n",
        "len(df[df.duplicated()])"
      ],
      "metadata": {
        "id": "1sLdpKYkmox0"
      },
      "execution_count": null,
      "outputs": []
    },
    {
      "cell_type": "markdown",
      "source": [
        "The data doesn't contain any duplicate value\n"
      ],
      "metadata": {
        "id": "upzt6FInt8HW"
      }
    },
    {
      "cell_type": "markdown",
      "source": [
        "#### Missing Values/Null Values"
      ],
      "metadata": {
        "id": "PoPl-ycgm1ru"
      }
    },
    {
      "cell_type": "code",
      "source": [
        "# Missing Values/Null Values Count\n",
        "df.isnull().sum()"
      ],
      "metadata": {
        "id": "GgHWkxvamxVg"
      },
      "execution_count": null,
      "outputs": []
    },
    {
      "cell_type": "markdown",
      "source": [
        "Missing values are present in the name, host_name, last_reviews and reviews_per_month columns."
      ],
      "metadata": {
        "id": "xaxPh-hHsi2b"
      }
    },
    {
      "cell_type": "code",
      "source": [
        "# Visualizing the missing values\n",
        "sns.heatmap(df.isnull(), cbar=False)\n"
      ],
      "metadata": {
        "id": "3q5wnI3om9sJ"
      },
      "execution_count": null,
      "outputs": []
    },
    {
      "cell_type": "markdown",
      "source": [
        "### What did you know about your dataset?"
      ],
      "metadata": {
        "id": "H0kj-8xxnORC"
      }
    },
    {
      "cell_type": "markdown",
      "source": [
        "The dataset given is a dataset from 'AirBnb' a platform where host and guest used it to expand on travelling possibilities , and we have to analysis the data to discover key understanding.\n",
        "\n",
        "The above dataset has 49000 rows and 16 columns. There are some  mising values or null values , as there is no duplicated values in the dataset."
      ],
      "metadata": {
        "id": "gfoNAAC-nUe_"
      }
    },
    {
      "cell_type": "markdown",
      "source": [
        "## ***2. Understanding Your Variables***"
      ],
      "metadata": {
        "id": "nA9Y7ga8ng1Z"
      }
    },
    {
      "cell_type": "code",
      "source": [
        "# Dataset Columns\n",
        "df.columns\n",
        "\n"
      ],
      "metadata": {
        "id": "j7xfkqrt5Ag5"
      },
      "execution_count": null,
      "outputs": []
    },
    {
      "cell_type": "code",
      "source": [
        "# Dataset Describe\n",
        "df.describe()\n",
        "\n"
      ],
      "metadata": {
        "id": "DnOaZdaE5Q5t"
      },
      "execution_count": null,
      "outputs": []
    },
    {
      "cell_type": "markdown",
      "source": [
        "We can see that the price column has some irregularity as the minimum price of the apartment is 0 i.e Free stay?. We will have to make some Assumptions."
      ],
      "metadata": {
        "id": "43hJQbK8b3DB"
      }
    },
    {
      "cell_type": "markdown",
      "source": [
        "### Variables Description "
      ],
      "metadata": {
        "id": "PBTbrJXOngz2"
      }
    },
    {
      "cell_type": "markdown",
      "source": [
        "##**id**: This gives us unique Id  list\n",
        "##**name**: List of name\n",
        "##**host id**: Unique host id list \n",
        "##**host_name**: Name of the host\n",
        "##**neighbourhood_group**: Location\n",
        "##**neighbourhood**: Area \n",
        "##**latitude**: Range of latitude\n",
        "##**longitude**: Range of longitude\n",
        "##**room_type**: Lists of room type available\n",
        "##**price**: Listing of room price\n",
        "##**minimum_nights**: Minimum nights people stay\n",
        "##**number_of_reviews**: Total number of review\n",
        "##**last_review**: Date of the last review\n",
        "##**reviews_per_month**: Number of reviews per month\n",
        "##**calculated_host_listings_count**: Total  number of listings for this host\n",
        "##**availability_365**: Availibility around the year"
      ],
      "metadata": {
        "id": "aJV4KIxSnxay"
      }
    },
    {
      "cell_type": "markdown",
      "source": [
        "### Checking Unique Values for each variable."
      ],
      "metadata": {
        "id": "u3PMJOP6ngxN"
      }
    },
    {
      "cell_type": "code",
      "source": [
        "# Check Unique Values for each variable.\n",
        "for i in df.columns.tolist():\n",
        "  print(\"No. of unique values in \",i,\"is\",df[i].nunique(),\".\")"
      ],
      "metadata": {
        "id": "zms12Yq5n-jE"
      },
      "execution_count": null,
      "outputs": []
    },
    {
      "cell_type": "markdown",
      "source": [
        "## 3. ***Data Wrangling***"
      ],
      "metadata": {
        "id": "dauF4eBmngu3"
      }
    },
    {
      "cell_type": "markdown",
      "source": [
        "### Data Wrangling Code"
      ],
      "metadata": {
        "id": "bKJF3rekwFvQ"
      }
    },
    {
      "cell_type": "code",
      "source": [
        "# dropping the unnecessary columns and making copy of data.\n",
        "new_df = df.drop(['last_review', 'reviews_per_month','latitude','longitude'], axis = 1 )\n"
      ],
      "metadata": {
        "id": "wk-9a2fpoLcV"
      },
      "execution_count": null,
      "outputs": []
    },
    {
      "cell_type": "code",
      "source": [
        "new_df.head(5)"
      ],
      "metadata": {
        "id": "GMzp7f5V5zDg"
      },
      "execution_count": null,
      "outputs": []
    },
    {
      "cell_type": "code",
      "source": [
        "new_df.shape"
      ],
      "metadata": {
        "id": "WZtgSMvq6Fvu"
      },
      "execution_count": null,
      "outputs": []
    },
    {
      "cell_type": "code",
      "source": [
        "# drop rows with null values.\n",
        "new_df= new_df.dropna( how = 'any')"
      ],
      "metadata": {
        "id": "LySTQiEm6M2d"
      },
      "execution_count": null,
      "outputs": []
    },
    {
      "cell_type": "code",
      "source": [
        "new_df.isnull().sum()\n"
      ],
      "metadata": {
        "id": "oK-HCvGN6Zuv"
      },
      "execution_count": null,
      "outputs": []
    },
    {
      "cell_type": "markdown",
      "source": [
        "There is no null value present now."
      ],
      "metadata": {
        "id": "tNyktVLT65RO"
      }
    },
    {
      "cell_type": "code",
      "source": [
        "# checking rows where price is 'zero'.\n",
        "new_df.loc[df['price'] <= 0][0:4]"
      ],
      "metadata": {
        "id": "cH-ZOlvu7Fvv"
      },
      "execution_count": null,
      "outputs": []
    },
    {
      "cell_type": "code",
      "source": [
        "new_df.loc[df['price'] <= 0].shape"
      ],
      "metadata": {
        "id": "djIb7LP97ebq"
      },
      "execution_count": null,
      "outputs": []
    },
    {
      "cell_type": "markdown",
      "source": [
        "There are 11 properties where price is 0,assuming this to be a mistake or error from the Airbnb side, we will replace all the 'zeros' with the 'Median price' to make data more Accurate."
      ],
      "metadata": {
        "id": "hYvf5QPg70wW"
      }
    },
    {
      "cell_type": "code",
      "source": [
        "# Replace all the zeros in price with NaN.\n",
        "new_df['price'] = new_df['price'].replace(0,np.nan)"
      ],
      "metadata": {
        "id": "dR4xXci-8ejc"
      },
      "execution_count": null,
      "outputs": []
    },
    {
      "cell_type": "code",
      "source": [
        "# Now fill the NaN values in price with 'Median price'.\n",
        "new_df = new_df.fillna( value = df['price'].median())\n",
        "new_df.isnull().sum()"
      ],
      "metadata": {
        "id": "1AT1-uyK-Xpf"
      },
      "execution_count": null,
      "outputs": []
    },
    {
      "cell_type": "code",
      "source": [
        "new_df['price'].min()"
      ],
      "metadata": {
        "id": "gcN5--wI_931"
      },
      "execution_count": null,
      "outputs": []
    },
    {
      "cell_type": "markdown",
      "source": [
        "Finally we have sucessfully replaced all rows having 0 price with the Median price."
      ],
      "metadata": {
        "id": "3xr5ZcK9Cg6l"
      }
    },
    {
      "cell_type": "markdown",
      "source": [
        "### What all manipulations have you done and insights you found?"
      ],
      "metadata": {
        "id": "MSa1f5Uengrz"
      }
    },
    {
      "cell_type": "markdown",
      "source": [
        "According to my idea, we will get a clear view and also logically correct dataset now.\n",
        "\n",
        "We have seen some missing values present in the nam,host_name,last_review and reviews_per_month columns. So we will drop this unnecessary columns such as  such as latitude, longitude, last_review, reviews_per_month.And also drop the row which have null values\n",
        "\n",
        "And then we see that the price column has some irregularity as the minimum price of the apartment is 0 i.e Free stay?.We had make some assumptions, checked where the price is 0 and there are  11 properties having 0 price. Assuming this to be a mistake or error from the Airbnb side, we will replace all the 'zeros' with the 'Median price' to make data more Accurate.\n",
        "\n",
        "\n",
        "\n"
      ],
      "metadata": {
        "id": "LbyXE7I1olp8"
      }
    },
    {
      "cell_type": "code",
      "source": [],
      "metadata": {
        "id": "PpadKO0i4Iai"
      },
      "execution_count": null,
      "outputs": []
    },
    {
      "cell_type": "markdown",
      "source": [
        "## ***4. Data Vizualization, Storytelling & Experimenting with charts : Understand the relationships between variables***"
      ],
      "metadata": {
        "id": "GF8Ens_Soomf"
      }
    },
    {
      "cell_type": "markdown",
      "source": [
        "####  What can we learn about different hosts and areas?\n",
        "\n",
        "Chart 1- Host having highest number of properties listed."
      ],
      "metadata": {
        "id": "0wOQAZs5pc--"
      }
    },
    {
      "cell_type": "code",
      "source": [
        "# Chart - 1 visualization code\n",
        "highest_property_host = new_df.groupby([ 'host_name'])['calculated_host_listings_count'].max().sort_values(ascending = False)[:10]\n",
        "highest_property_host.reset_index()"
      ],
      "metadata": {
        "id": "ybfnkignHHDV"
      },
      "execution_count": null,
      "outputs": []
    },
    {
      "cell_type": "code",
      "source": [
        "# creating the bar plot\n",
        "highest_property_host.plot(kind = 'bar', color = 'yellow')\n",
        "plt.xlabel('Hosts')\n",
        "plt.ylabel('Properties Listed')\n",
        "plt.title('Hosts having highest amount of properties listed')"
      ],
      "metadata": {
        "id": "ulvtkELQtXi9"
      },
      "execution_count": null,
      "outputs": []
    },
    {
      "cell_type": "markdown",
      "source": [
        "##### 1. Why did you pick the specific chart?"
      ],
      "metadata": {
        "id": "K5QZ13OEpz2H"
      }
    },
    {
      "cell_type": "markdown",
      "source": [
        "Bar charts are used when you are showing segments of information and bar chart  shows frequency counts of values for the different levels of a categorical or nominal variable.\n",
        "   \n",
        "   Thus, I used bar chart to know the highest number of properties listed by comparing top 10 host with each other.\n"
      ],
      "metadata": {
        "id": "XESiWehPqBRc"
      }
    },
    {
      "cell_type": "markdown",
      "source": [
        "##### 2. What is/are the insight(s) found from the chart?"
      ],
      "metadata": {
        "id": "lQ7QKXXCp7Bj"
      }
    },
    {
      "cell_type": "markdown",
      "source": [
        "From obove chart i got to know that Sonder(NYC) has 327 properties in it and that is the highest of all compare to other hosts."
      ],
      "metadata": {
        "id": "C_j1G7yiqdRP"
      }
    },
    {
      "cell_type": "markdown",
      "source": [
        "##### 3. Will the gained insights help creating a positive business impact? \n",
        "Are there any insights that lead to negative growth? Justify with specific reason."
      ],
      "metadata": {
        "id": "448CDAPjqfQr"
      }
    },
    {
      "cell_type": "markdown",
      "source": [
        "Yes, it is good to have high number of properties dooesn't matter which host has more properties.It will create a positive business impact.\n"
      ],
      "metadata": {
        "id": "3cspy4FjqxJW"
      }
    },
    {
      "cell_type": "markdown",
      "source": [
        "#### Chart - 2 -Most properties are located in ?"
      ],
      "metadata": {
        "id": "KSlN3yHqYklG"
      }
    },
    {
      "cell_type": "code",
      "source": [
        "# Chart - 2 visualization code\n",
        "# neighbourhood_group relation with listed properties. \n",
        "neighbourhood = new_df['neighbourhood_group'].value_counts()\n",
        "fig = plt.figure(figsize = (10, 5))"
      ],
      "metadata": {
        "id": "R4YgtaqtYklH"
      },
      "execution_count": null,
      "outputs": []
    },
    {
      "cell_type": "code",
      "source": [
        "# creating bar plot for neighbourhood_group.\n",
        "neighbourhood.plot(kind='bar')\n",
        "\n",
        "plt.title('Properties per Neighbourhood Group')\n",
        "plt.ylabel('Listed Property Count')\n",
        "plt.xlabel('Neighbourhood Group')\n",
        "plt.show()"
      ],
      "metadata": {
        "id": "jJox1hdC4Gvs"
      },
      "execution_count": null,
      "outputs": []
    },
    {
      "cell_type": "markdown",
      "source": [
        "##### 1. Why did you pick the specific chart?"
      ],
      "metadata": {
        "id": "t6dVpIINYklI"
      }
    },
    {
      "cell_type": "code",
      "source": [],
      "metadata": {
        "id": "27L015PIFmcG"
      },
      "execution_count": null,
      "outputs": []
    },
    {
      "cell_type": "markdown",
      "source": [
        "A bar chart is really helpful when we want to see for example the total sales volume by different Property types.\n",
        "To check how a particular variable varies across different categories/groups of another variable we use a Bar plot.\n",
        "\n",
        "Thus, to know where most properties are located in the given data i used bar plot to get the visual."
      ],
      "metadata": {
        "id": "5aaW0BYyYklI"
      }
    },
    {
      "cell_type": "markdown",
      "source": [
        "##### 2. What is/are the insight(s) found from the chart?"
      ],
      "metadata": {
        "id": "ijmpgYnKYklI"
      }
    },
    {
      "cell_type": "markdown",
      "source": [
        "Most properties are located in Manhattan and Brooklyn compare to other neighbouhood_group."
      ],
      "metadata": {
        "id": "PSx9atu2YklI"
      }
    },
    {
      "cell_type": "markdown",
      "source": [
        "#### What can we learn from predictions? (ex: locations, prices, reviews, etc)\n",
        "\n",
        "Chart - 3- Who has highest no of review."
      ],
      "metadata": {
        "id": "EM7whBJCYoAo"
      }
    },
    {
      "cell_type": "code",
      "source": [
        "# Chart - 3 visualization code\n",
        "# neighbourhood group relation with number of reviews. \n",
        "areas_reviews = new_df.groupby(['neighbourhood_group'])['number_of_reviews'].max().reset_index()\n",
        "areas_reviews"
      ],
      "metadata": {
        "id": "t6GMdE67YoAp"
      },
      "execution_count": null,
      "outputs": []
    },
    {
      "cell_type": "code",
      "source": [
        "area = areas_reviews['neighbourhood_group']\n",
        "review = areas_reviews['number_of_reviews']\n",
        "\n",
        "# creating the bar plot\n",
        "plt.bar(area , review,color='violet')\n",
        "plt.xlabel('Neighbourhood Group')\n",
        "plt.ylabel('No of Reviews')\n",
        "plt.title('Neighbourhood vs No of Reviews')"
      ],
      "metadata": {
        "id": "PYbFPXTw7dVC"
      },
      "execution_count": null,
      "outputs": []
    },
    {
      "cell_type": "markdown",
      "source": [
        "##### 1. Why did you pick the specific chart?"
      ],
      "metadata": {
        "id": "fge-S5ZAYoAp"
      }
    },
    {
      "cell_type": "markdown",
      "source": [
        "Bar chart shows frequency counts of values for the different levels of a categorical or nominal variable.\n",
        "\n",
        "To know who has most number of review ,I used bar plot."
      ],
      "metadata": {
        "id": "5dBItgRVYoAp"
      }
    },
    {
      "cell_type": "markdown",
      "source": [
        "##### 2. What is/are the insight(s) found from the chart?"
      ],
      "metadata": {
        "id": "85gYPyotYoAp"
      }
    },
    {
      "cell_type": "markdown",
      "source": [
        "We can see that Queens has highest No of Reviews. but Manhattan has the highest no of properties listed. This means that the number of properties listed on the Airbnb does not mean that the number of customers you will have will be more.\n"
      ],
      "metadata": {
        "id": "4jstXR6OYoAp"
      }
    },
    {
      "cell_type": "markdown",
      "source": [
        "#### Chart - 4 - what price people prefer most?(scatter chart)"
      ],
      "metadata": {
        "id": "4Of9eVA-YrdM"
      }
    },
    {
      "cell_type": "markdown",
      "source": [],
      "metadata": {
        "id": "Zgao6wNb_CMP"
      }
    },
    {
      "cell_type": "code",
      "source": [
        "# Chart - 4 visualization code\n",
        "# price relation with no of reviews.\n",
        "price_area = new_df.groupby(['price'])['number_of_reviews'].max().reset_index()\n",
        "price_area.head(5)"
      ],
      "metadata": {
        "id": "irlUoxc8YrdO"
      },
      "execution_count": null,
      "outputs": []
    },
    {
      "cell_type": "code",
      "source": [
        "#defining variables\n",
        "area = price_area['price']\n",
        "price = price_area['number_of_reviews']\n",
        "\n",
        "fig = plt.figure(figsize = (8, 5))\n",
        " \n",
        "# creating the scattter plot.\n",
        "plt.scatter(area, price ,color ='purple')\n",
        " \n",
        "plt.xlabel(\"Price\")\n",
        "plt.ylabel(\"Number of Review\")\n",
        "plt.title(\"Price vs Number of Reviews\")\n",
        "plt.show()"
      ],
      "metadata": {
        "id": "zUUdWVSW_LNo"
      },
      "execution_count": null,
      "outputs": []
    },
    {
      "cell_type": "markdown",
      "source": [
        "##### 1. Why did you pick the specific chart?"
      ],
      "metadata": {
        "id": "iky9q4vBYrdO"
      }
    },
    {
      "cell_type": "markdown",
      "source": [
        "A scatter plot (aka scatter chart, scatter graph) uses dots to represent values for two different numeric variables. The position of each dot on the horizontal and vertical axis indicates values for an individual data point. Scatter plots are used to observe relationships between variables.\n",
        "\n",
        "Thus, I have used the scatter plot to depict the price people prefer most."
      ],
      "metadata": {
        "id": "aJRCwT6DYrdO"
      }
    },
    {
      "cell_type": "markdown",
      "source": [
        "##### 2. What is/are the insight(s) found from the chart?"
      ],
      "metadata": {
        "id": "F6T5p64dYrdO"
      }
    },
    {
      "cell_type": "markdown",
      "source": [
        "Most of the properties price are between 0 - 2000. From the above Analysis we can say that most people prefer to stay in place where price is less."
      ],
      "metadata": {
        "id": "Xx8WAJvtYrdO"
      }
    },
    {
      "cell_type": "markdown",
      "source": [
        "#### Chart - 5 -what room type people prefer?"
      ],
      "metadata": {
        "id": "bamQiAODYuh1"
      }
    },
    {
      "cell_type": "code",
      "source": [
        "# Chart - 5 visualization code\n",
        "# Room Type relation with reviews.\n",
        "room_type_review = new_df.groupby(['room_type'])['number_of_reviews'].max().reset_index()\n",
        "room_type_review "
      ],
      "metadata": {
        "id": "TIJwrbroYuh3"
      },
      "execution_count": null,
      "outputs": []
    },
    {
      "cell_type": "code",
      "source": [
        "# creating a bar plot.\n",
        "room_type = room_type_review['room_type']\n",
        "reviews = room_type_review['number_of_reviews']\n",
        "\n",
        "plt.bar(room_type, reviews, width= 0.6,color='green')\n",
        " \n",
        "plt.xlabel(\"Room Type\")\n",
        "plt.ylabel(\"Reviews\")\n",
        "plt.title(\"Types of Room vs Reviews\")\n",
        "plt.show()"
      ],
      "metadata": {
        "id": "6T5UjZqxBC-i"
      },
      "execution_count": null,
      "outputs": []
    },
    {
      "cell_type": "markdown",
      "source": [
        "##### 1. Why did you pick the specific chart?"
      ],
      "metadata": {
        "id": "QHF8YVU7Yuh3"
      }
    },
    {
      "cell_type": "markdown",
      "source": [
        "Bar chart shows frequency counts of values for the different levels of a categorical or nominal variable.\n",
        "\n",
        "Thus, I have used the bar plot to show room types that are prefer most.\n"
      ],
      "metadata": {
        "id": "dcxuIMRPYuh3"
      }
    },
    {
      "cell_type": "markdown",
      "source": [
        "##### 2. What is/are the insight(s) found from the chart?"
      ],
      "metadata": {
        "id": "GwzvFGzlYuh3"
      }
    },
    {
      "cell_type": "markdown",
      "source": [
        "We can see from the analysis that people usually like to stay in private room, thus it has highest no of Reviews."
      ],
      "metadata": {
        "id": "uyqkiB8YYuh3"
      }
    },
    {
      "cell_type": "markdown",
      "source": [
        "#### Chart - 6 -Which is most expensive neighbourhood"
      ],
      "metadata": {
        "id": "OH-pJp9IphqM"
      }
    },
    {
      "cell_type": "code",
      "source": [
        "# Chart - 6 visualization code\n",
        "# analysis  average price of top 10 Neighbourhood.\n",
        "neighbourhood_price = new_df.groupby(['neighbourhood'])['price'].mean().sort_values(ascending = False).reset_index()[:10]\n",
        "neighbourhood_price"
      ],
      "metadata": {
        "id": "kuRf4wtuphqN"
      },
      "execution_count": null,
      "outputs": []
    },
    {
      "cell_type": "code",
      "source": [
        "# creating a bar plot.\n",
        "neighbourhood = neighbourhood_price['neighbourhood']\n",
        "average_price = neighbourhood_price['price']\n",
        "\n",
        "fig = plt.figure(figsize = (15, 5))\n",
        "plt.bar(neighbourhood, average_price, width= 0.6)\n",
        " \n",
        "plt.xlabel(\"Top 10 Neighbourhood\")\n",
        "plt.ylabel(\"Mean Price\")\n",
        "plt.title(\"Most expensive Neighbourhood\")\n",
        "plt.show()"
      ],
      "metadata": {
        "id": "wzY6ibY-ADmz"
      },
      "execution_count": null,
      "outputs": []
    },
    {
      "cell_type": "markdown",
      "source": [
        "##### 1. Why did you pick the specific chart?"
      ],
      "metadata": {
        "id": "bbFf2-_FphqN"
      }
    },
    {
      "cell_type": "markdown",
      "source": [
        "Bar charts are used when you are showing segments of information and bar chart shows frequency counts of values for the different levels of a categorical or nominal variable.\n",
        "\n",
        "To check which is most expensive neighbourhood i used the bar plot."
      ],
      "metadata": {
        "id": "loh7H2nzphqN"
      }
    },
    {
      "cell_type": "markdown",
      "source": [
        "##### 2. What is/are the insight(s) found from the chart?"
      ],
      "metadata": {
        "id": "_ouA3fa0phqN"
      }
    },
    {
      "cell_type": "markdown",
      "source": [
        "By  analysing we can say that 'Fort Wadsworth' is the most expensive Neighbourhood, followed by 'Woodrow', 'Tribeca', 'Sea Gate' and so on.."
      ],
      "metadata": {
        "id": "VECbqPI7phqN"
      }
    },
    {
      "cell_type": "markdown",
      "source": [
        "#### Chart-7 - Which host are busiest and why?\n",
        "\n",
        "\n"
      ],
      "metadata": {
        "id": "PIIx-8_IphqN"
      }
    },
    {
      "cell_type": "code",
      "source": [
        "# Chart - 7 visualization code\n",
        "#Lets check top 10 busiest host\n",
        "busiest_hosts = new_df.groupby(['host_name','host_id','room_type','price'])['number_of_reviews'].max().reset_index()\n",
        "busiest_hosts = busiest_hosts.sort_values(by='number_of_reviews', ascending=False)[:10]\n",
        "busiest_hosts"
      ],
      "metadata": {
        "id": "lqAIGUfyphqO"
      },
      "execution_count": null,
      "outputs": []
    },
    {
      "cell_type": "code",
      "source": [
        "name = busiest_hosts['host_name']\n",
        "reviews = busiest_hosts['number_of_reviews']\n",
        "\n",
        "fig = plt.figure(figsize = (10,6))\n",
        " \n",
        "# creating the bar plot\n",
        "plt.barh(name, reviews, color ='maroon')\n",
        " \n",
        "plt.xlabel(\"Number of Reviews\")\n",
        "plt.ylabel(\"name of hosts\")\n",
        "plt.title(\"Top 10 Busiest Hosts\")\n",
        "plt.grid(True)\n",
        "plt.show()"
      ],
      "metadata": {
        "id": "U3WklXXxB2zX"
      },
      "execution_count": null,
      "outputs": []
    },
    {
      "cell_type": "markdown",
      "source": [
        "##### 1. Why did you pick the specific chart?"
      ],
      "metadata": {
        "id": "t27r6nlMphqO"
      }
    },
    {
      "cell_type": "markdown",
      "source": [
        "To check how a particular variable varies across different categories/groups of another variable we use a Bar plot.\n",
        "\n",
        "To know obout the top 10 busiest host I used the bar plot."
      ],
      "metadata": {
        "id": "iv6ro40sphqO"
      }
    },
    {
      "cell_type": "markdown",
      "source": [
        "##### 2. What is/are the insight(s) found from the chart?"
      ],
      "metadata": {
        "id": "r2jJGEOYphqO"
      }
    },
    {
      "cell_type": "markdown",
      "source": [
        "Busiest hosts are:\n",
        " Dona , \n",
        "Ji , \n",
        "Maya , \n",
        "Carol , \n",
        "Danielle , \n",
        "Asa , \n",
        "Wanda , \n",
        "Linda , \n",
        "Dani , \n",
        "Angela.\n",
        "\n",
        "\n"
      ],
      "metadata": {
        "id": "Po6ZPi4hphqO"
      }
    },
    {
      "cell_type": "markdown",
      "source": [
        "#### Chart- 8- What room type this busiest host prefer the most?"
      ],
      "metadata": {
        "id": "BZR9WyysphqO"
      }
    },
    {
      "cell_type": "code",
      "source": [
        "# Chart - 8 visualization code\n",
        "# Taking a sample of first 100 busiest host to analyse the behaviours of hosts regarding the choice of room types.\n",
        "busiest_hosts_new = new_df.groupby(['host_name','host_id','room_type','price'])['number_of_reviews'].max().reset_index()\n",
        "busiest_hosts_new = busiest_hosts_new.sort_values(by='number_of_reviews', ascending=False)[:100]\n",
        "busiest_hosts_new"
      ],
      "metadata": {
        "id": "TdPTWpAVphqO"
      },
      "execution_count": null,
      "outputs": []
    },
    {
      "cell_type": "code",
      "source": [
        "rooms_choice = busiest_hosts_new['room_type'].value_counts()\n",
        "rooms_choice"
      ],
      "metadata": {
        "id": "InWvOkp5FkH4"
      },
      "execution_count": null,
      "outputs": []
    },
    {
      "cell_type": "code",
      "source": [
        "# creating a pie chart \n",
        "room_type1= dict(rooms_choice).keys()\n",
        "room_type_choice = dict(rooms_choice).values()\n",
        "\n",
        "plt.figure(figsize=(8,7))\n",
        "plt.pie(room_type_choice, labels=room_type1 ,autopct='%1.1f%%')\n",
        "plt.show()"
      ],
      "metadata": {
        "id": "AZ8gt4OwKaBn"
      },
      "execution_count": null,
      "outputs": []
    },
    {
      "cell_type": "markdown",
      "source": [
        "##### 1. Why did you pick the specific chart?"
      ],
      "metadata": {
        "id": "jj7wYXLtphqO"
      }
    },
    {
      "cell_type": "markdown",
      "source": [
        "A pie chart expresses a part-to-whole relationship in your data. It's easy to explain the percentage comparison through area covered in a circle with different colors. Where differenet percentage comparison comes into action pie chart is used frequently.\n",
        "\n",
        " So, I used Pie chart and which helped me to get the percentage comparision of room type this busiest host prefer the most ."
      ],
      "metadata": {
        "id": "Ob8u6rCTphqO"
      }
    },
    {
      "cell_type": "markdown",
      "source": [
        "##### 2. What is/are the insight(s) found from the chart?"
      ],
      "metadata": {
        "id": "eZrbJ2SmphqO"
      }
    },
    {
      "cell_type": "markdown",
      "source": [
        "we can say that most number of hosts are opting for 'Private room' than the rest. almost 2/3rd of the hosts leaning towards 'private rooms' in the sample size of busiest host. This might be influencial factor for most busiest hosts. They are repeatative in terms of choosing private rooms.\n",
        "\n"
      ],
      "metadata": {
        "id": "mZtgC_hjphqO"
      }
    },
    {
      "cell_type": "markdown",
      "source": [
        "#### Chart-9 - Is there any noticeable difference of traffic among different areas and what could be the reason for it?"
      ],
      "metadata": {
        "id": "YJ55k-q6phqO"
      }
    },
    {
      "cell_type": "code",
      "source": [
        "# Chart - 9 visualization code\n",
        "# checking the traffic in different neighbourhood with room types\n",
        "traffic_areas = new_df.groupby(['neighbourhood_group'])['minimum_nights'].count().reset_index()\n",
        "traffic_areas = traffic_areas.sort_values(by='minimum_nights', ascending=False)\n",
        "traffic_areas"
      ],
      "metadata": {
        "id": "B2aS4O1ophqO"
      },
      "execution_count": null,
      "outputs": []
    },
    {
      "cell_type": "code",
      "source": [
        "# defining variables\n",
        "room_type = traffic_areas['neighbourhood_group']\n",
        "stayed = traffic_areas['minimum_nights']\n",
        "\n",
        "fig = plt.figure(figsize = (10, 6))\n",
        " \n",
        "# creating the bar plot\n",
        "plt.bar(room_type, stayed, color ='orange', width= 0.6,)\n",
        "\n",
        "\n",
        "plt.xlabel(\"Neighbourhood Groups\")\n",
        "plt.ylabel(\"Minimum number of nights stayed\")\n",
        "plt.title(\"Traffic Areas\")\n",
        "plt.grid(True)\n",
        "plt.show()"
      ],
      "metadata": {
        "id": "-q2NTI94ElF7"
      },
      "execution_count": null,
      "outputs": []
    },
    {
      "cell_type": "markdown",
      "source": [
        "##### 1. Why did you pick the specific chart?"
      ],
      "metadata": {
        "id": "gCFgpxoyphqP"
      }
    },
    {
      "cell_type": "markdown",
      "source": [
        "A bar chart is really helpful when we want to see for example the total sales volume by different Property types. To check how a particular variable varies across different categories/groups of another variable we use a Bar plot.\n",
        "\n",
        "Thus,to  understand the traffic distribution with respect to different loaclities and to check which neighbourhood has the highest traffic share I used bar plot."
      ],
      "metadata": {
        "id": "TVxDimi2phqP"
      }
    },
    {
      "cell_type": "markdown",
      "source": [
        "##### 2. What is/are the insight(s) found from the chart?"
      ],
      "metadata": {
        "id": "OVtJsKN_phqQ"
      }
    },
    {
      "cell_type": "markdown",
      "source": [
        "we can see that Manhattan and Brooklyn has the highest traffic share followed by Queens, Bronx and Staten Island.\n",
        "We know that Manhattan and Brooklyn have many places of Tourist attraction like “Statue of Liberty and Ellis” Island in Manhattan, “ Prospect Park, Cony Island” in Brooklyn.\n",
        "Manhattan and Brooklyn are popular places that's why it has highest traffic share."
      ],
      "metadata": {
        "id": "ngGi97qjphqQ"
      }
    },
    {
      "cell_type": "markdown",
      "source": [
        "#### Chart - 10 - Correlation Heatmap"
      ],
      "metadata": {
        "id": "NC_X3p0fY2L0"
      }
    },
    {
      "cell_type": "code",
      "source": [
        "# Correlation Heatmap visualization code\n",
        "print(new_df.corr())\n",
        "dataplot= sns.heatmap(new_df.corr(),annot=True)\n",
        "plt.show()\n"
      ],
      "metadata": {
        "id": "DuIf82NECibQ"
      },
      "execution_count": null,
      "outputs": []
    },
    {
      "cell_type": "markdown",
      "source": [
        "##### 1. Why did you pick the specific chart?"
      ],
      "metadata": {
        "id": "MmajqpBGGVau"
      }
    },
    {
      "cell_type": "markdown",
      "source": [
        "Correlation matrix is a table showing correlation coefficients between variables. Each cell in the table shows the correlation between two variables. A correlation matrix is used to summarize data, as an input into a more advanced analysis, and as a diagnostic for advanced analyses. The range of correlation is [-1,1].\n",
        "\n",
        "Thus to know the correlation between all the variables along with the correlation coeficients, i used correlation heatmap."
      ],
      "metadata": {
        "id": "Wixuu7EJG0tx"
      }
    },
    {
      "cell_type": "markdown",
      "source": [
        "##### 2. What is/are the insight(s) found from the chart?"
      ],
      "metadata": {
        "id": "22aHeOlLveiV"
      }
    },
    {
      "cell_type": "markdown",
      "source": [
        "As we can from the above correlation heatmap no indepedent features are corelated with each other."
      ],
      "metadata": {
        "id": "arjimgacFy4A"
      }
    },
    {
      "cell_type": "markdown",
      "source": [
        "## **5. Solution to Business Objective**"
      ],
      "metadata": {
        "id": "JcMwzZxoAimU"
      }
    },
    {
      "cell_type": "markdown",
      "source": [
        "#### What do you suggest the client to achieve Business Objective ? \n"
      ],
      "metadata": {
        "id": "8G2x9gOozGDZ"
      }
    },
    {
      "cell_type": "markdown",
      "source": [
        "For maximizing the profits and improving the services provided to our customers we suggest the following key points according to our analysis:\n",
        "\n",
        "1.As we saw from our visualisation above the demand for private room is highest so we suggest our host to provide maximum private rooms.\n",
        "\n",
        "2.And we know that manhattan and brooklyn have more places of tourist attraction and the demand in this neighbourhood also high so we suggest airbnb to expand thier business in this neighbouhood .\n",
        "\n",
        "3. Airbnb should also  focus on providing rooms at a price between 0 to 2000 as we saw most people prefer to stay where the Price is less."
      ],
      "metadata": {
        "id": "pASKb0qOza21"
      }
    },
    {
      "cell_type": "markdown",
      "source": [
        "# **Conclusion**"
      ],
      "metadata": {
        "id": "gCX9965dhzqZ"
      }
    },
    {
      "cell_type": "markdown",
      "source": [
        "We have tried to explore the Airbnb dataset from NYC 2019. Our focus was to learn different features of listing like price, busiest hosts, highest traffics share etc.We also did some data cleansing in order to make the data better suited of Exploratory data analysis.\n",
        "So far we have done some basic exploring of the dataset and have gain few insights from it such as\n",
        "\n",
        "-From the analysis we came to know which neighbouehood group has highest No of properties listed.\n",
        "\n",
        "-We know the Top 10 hosts with most No of properties listed.\n",
        "\n",
        "-We know which Neighbourhood group has most No of reviews as compared to No of properties listed. i.e Queens has highest No of Reviews. but Manhattan has the highest no of properties listed.\n",
        "\n",
        "-By analyzing Price and No of Reviews, We know most people prefer to stay where the Price is less.\n",
        "\n",
        "-By analyzing Room Type with No of Reviews, We know that Most people prefer to stay in Private Room.\n",
        "\n",
        "-We know Fort Wadsworth is thr most expensive Neighbourhood, by comparing Average price and Neighbourhood.\n",
        "\n",
        "-We came to know the top 10 Busiest Host and their preference regatding Room Type.\n",
        "\n",
        "-We saw the highest traffic Neighbourhood group's by analyzing minimum night stayed.\n",
        "\n",
        "-At last we saw the correlation heatmap"
      ],
      "metadata": {
        "id": "Fjb1IsQkh3yE"
      }
    },
    {
      "cell_type": "markdown",
      "source": [
        "### ***Hurrah! You have successfully completed your EDA Capstone Project !!!***"
      ],
      "metadata": {
        "id": "gIfDvo9L0UH2"
      }
    }
  ]
}